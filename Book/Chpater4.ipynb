{
 "cells": [
  {
   "cell_type": "markdown",
   "metadata": {
    "vscode": {
     "languageId": "plaintext"
    }
   },
   "source": [
    "### 4.1.1 데이터 주도학습\n",
    "\n",
    "사람 -> 규칙성을 찾는다, 직관과 경험을 단서로 시행착오를 거듭하며 일을 진행\n",
    "\n",
    "기계학습 -> 수집한 데이터로부터 패턴을 찾으려고 시도\n",
    "\n",
    "5를 예를 들면 5의 데이터들을 보고 숨은 규칙성을 찾아내기에는 너무 어려움\n",
    "\n",
    "이를 인식하는 알고리즘을 설계하는 대신, 데이터를 잘 활용해서 해결하고 싶어진다.\n",
    "\n",
    "이를 특징을 추출하고 이 특징의 패턴을 기계학습 기술로 학습하는 방법이 존재"
   ]
  },
  {
   "cell_type": "markdown",
   "metadata": {},
   "source": [
    "### 4.2 손실 함수\n",
    "\n",
    "신경망은 하나의 지표를 기준으로 최적의 매개변수 값을 탐색하는데, 이 지표를 `Loss Function(Error Function)`이라 함\n",
    "\n",
    "MSE (Mean Squared Error)\n",
    "\n",
    "$E = \\dfrac{1}{2}\\sum\\limits_k{(y_k - t_k)^2}$"
   ]
  },
  {
   "cell_type": "code",
   "execution_count": 5,
   "metadata": {},
   "outputs": [],
   "source": [
    "import numpy as np\n",
    "def MSE(y, t):\n",
    "    return 0.5 * np.sum((y-t)**2)"
   ]
  },
  {
   "cell_type": "code",
   "execution_count": 9,
   "metadata": {},
   "outputs": [
    {
     "name": "stdout",
     "output_type": "stream",
     "text": [
      "0.09750000000000003\n",
      "0.5975\n"
     ]
    }
   ],
   "source": [
    "t = np.array([0,0,1,0,0,0,0,0,0,0])\n",
    "\n",
    "y = np.array([0.1,0.05,0.6,0.0,0.05,0.1,0.0,0.1,0.0,0.0])\n",
    "print(MSE(y,t))\n",
    "\n",
    "y = np.array([0.1,0.05,0.1,0.0,0.05,0.1,0.0,0.6,0.0,0.0])\n",
    "print(MSE(y,t))"
   ]
  },
  {
   "cell_type": "markdown",
   "metadata": {},
   "source": [
    "첫 번째 예의 손실 함수 쪽 출력이 작으며 정답 레이블과의 오차도 작은 것을 알 수 있습니다.\n",
    "\n",
    "평균 제곱 오차를 기준으로는 첫 번째 추정 결과가 정답에 더 가까운 것을 확인할 수 있습니다."
   ]
  },
  {
   "cell_type": "markdown",
   "metadata": {},
   "source": []
  }
 ],
 "metadata": {
  "kernelspec": {
   "display_name": "Python 3",
   "language": "python",
   "name": "python3"
  },
  "language_info": {
   "codemirror_mode": {
    "name": "ipython",
    "version": 3
   },
   "file_extension": ".py",
   "mimetype": "text/x-python",
   "name": "python",
   "nbconvert_exporter": "python",
   "pygments_lexer": "ipython3",
   "version": "3.12.3"
  }
 },
 "nbformat": 4,
 "nbformat_minor": 2
}
